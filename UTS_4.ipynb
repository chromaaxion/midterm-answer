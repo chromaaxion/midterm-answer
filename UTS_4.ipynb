{
 "cells": [
  {
   "cell_type": "markdown",
   "id": "2dfe1e9d",
   "metadata": {},
   "source": [
    "# Flowchart\n",
    "### Muhammad Farhan | 10219074"
   ]
  },
  {
   "cell_type": "markdown",
   "id": "59ca6d06",
   "metadata": {},
   "source": [
    "1. Modify following lines of code in order to produce right flowchart for finding root using secant method."
   ]
  },
  {
   "cell_type": "code",
   "execution_count": 24,
   "id": "7a02354a",
   "metadata": {},
   "outputs": [
    {
     "data": {
      "text/html": [
       "<img src=\"https://mermaid.ink/img/CmdyYXBoIFRECiAgICBCKFsiQmVnaW4iXSkgLS0+CiAgICBJWy8ieDxzdWI+MDwvc3ViPiwgeDxzdWI+MTwvc3ViPiwgPGJyPmYoeCkiL10gLS0+CiAgICBQMVsiaSA9IDIiXSAtLT4KICAgIG8xKCgiICIpKSAtLT4KICAgIFAyWyJmJyh4PHN1Yj5pLTE8L3N1Yj4pID0gW2YoeDxzdWI+aS0xPC9zdWI+KSAmbWRhc2g7IGYoeDxzdWI+aS0yPC9zdWI+KV08YnI+ICAgICAgLyAoeDxzdWI+aS0xPC9zdWI+ICZtZGFzaDsgeDxzdWI+aS0yPC9zdWI+KSJdIC0tPgogICAgUDNbIiZEZWx0YTt4ID0gZih4PHN1Yj5pLTE8L3N1Yj4pIC8gZicoeDxzdWI+aS0xPC9zdWI+KSJdIC0tPgogICAgUDRbIng8c3ViPmk8L3N1Yj4gPSB4PHN1Yj5pLTE8L3N1Yj4gICAgICAmbWRhc2g7ICZEZWx0YTt4Il0gLS0+CiAgICBQNVsiJmVwc2lsb247ID0gfGYoeDxzdWI+aTwvc3ViPil8Il0gLS0+CiAgICBDeyImZXBzaWxvbjsgJmxlOyAmZXBzaWxvbjs8c3ViPm1heDwvc3ViPiJ9IC0tIE4gLS0+CiAgICBQNlsiaSA9IGkgKyAxIl0gLS0+IG8xCiAgICBDIC0tIFkgLS0+CiAgICBPWy8ieDxzdWI+aTwvc3ViPiIvXSAtLT4KICAgIEUoWyJFbmQiXSkK?!white\"/>"
      ],
      "text/plain": [
       "<IPython.core.display.Image object>"
      ]
     },
     "metadata": {},
     "output_type": "display_data"
    }
   ],
   "source": [
    "import base64\n",
    "from IPython.display import Image, display\n",
    "import matplotlib.pyplot as plt\n",
    "\n",
    "def mermaid(graph, **kwargs):\n",
    "    graphbytes = graph.encode('ascii')\n",
    "    base64_bytes = base64.b64encode(graphbytes)\n",
    "    base64_string = base64_bytes.decode('ascii')\n",
    "    bgcolor = '!white'\n",
    "    display(\n",
    "        Image(\n",
    "            url='https://mermaid.ink/img/'\n",
    "            + base64_string + '?' + bgcolor\n",
    "            )\n",
    "    )\n",
    "\n",
    "g = \"\"\"\n",
    "graph TD\n",
    "    B([\"Begin\"]) -->\n",
    "    I[/\"x<sub>0</sub>, x<sub>1</sub>, <br>f(x)\"/] -->\n",
    "    P1[\"i = 2\"] -->\n",
    "    o1((\" \")) -->\n",
    "    P2[\"f'(x<sub>i-1</sub>) = [f(x<sub>i-1</sub>) &mdash; f(x<sub>i-2</sub>)]<br>\\\n",
    "      / (x<sub>i-1</sub> &mdash; x<sub>i-2</sub>)\"] -->\n",
    "    P3[\"&Delta;x = f(x<sub>i-1</sub>) / f'(x<sub>i-1</sub>)\"] -->\n",
    "    P4[\"x<sub>i</sub> = x<sub>i-1</sub>\\\n",
    "      &mdash; &Delta;x\"] -->\n",
    "    P5[\"&epsilon; = |f(x<sub>i</sub>)|\"] -->\n",
    "    C{\"&epsilon; &le; &epsilon;<sub>max</sub>\"} -- N -->\n",
    "    P6[\"i = i + 1\"] --> o1\n",
    "    C -- Y -->\n",
    "    O[/\"x<sub>i</sub>\"/] -->\n",
    "    E([\"End\"])\n",
    "\"\"\"\n",
    "mermaid(g)"
   ]
  },
  {
   "cell_type": "markdown",
   "id": "96bcd837",
   "metadata": {},
   "source": [
    "2. Make a function $f(x)$ for $f(x) = x^3 - 2x^2 + x -1$"
   ]
  },
  {
   "cell_type": "code",
   "execution_count": 25,
   "id": "7d55dfa2",
   "metadata": {},
   "outputs": [
    {
     "name": "stdout",
     "output_type": "stream",
     "text": [
      "Input value of x: 1\n"
     ]
    },
    {
     "data": {
      "text/plain": [
       "-1.0"
      ]
     },
     "execution_count": 25,
     "metadata": {},
     "output_type": "execute_result"
    }
   ],
   "source": [
    "def f(x):\n",
    "    return x**3 - 2*x**2 + x - 1\n",
    "\n",
    "f(float(input(\"Input value of x: \")))"
   ]
  },
  {
   "cell_type": "markdown",
   "id": "f62b05c1",
   "metadata": {},
   "source": [
    "3. Secant Method"
   ]
  },
  {
   "cell_type": "code",
   "execution_count": 26,
   "id": "b6ba6a93",
   "metadata": {},
   "outputs": [
    {
     "name": "stdout",
     "output_type": "stream",
     "text": [
      "Resulting range is xleft = 1.7000000000000004 and xright = 1.8000000000000005\n"
     ]
    }
   ],
   "source": [
    "## Scanning method\n",
    "\n",
    "def smaller_root_range(f, xbeg, xend, dx):\n",
    "    N = int((xend - xbeg)/2)\n",
    "    x_i = xbeg\n",
    "    \n",
    "    while x_i < xend:\n",
    "        y_i = f(x_i)\n",
    "        \n",
    "        if y_i > 0:\n",
    "            sign_new = 1\n",
    "        else:\n",
    "            sign_new = -1\n",
    "            \n",
    "        if x_i == xbeg:\n",
    "            sign_old = sign_new\n",
    "        \n",
    "        if sign_old * sign_new < 0:\n",
    "            xleft = x_i - dx\n",
    "            xright = x_i\n",
    "            break\n",
    "        \n",
    "        x_i += dx\n",
    "        \n",
    "    print(\"Resulting range is xleft =\", xleft,\"and xright =\", xright)\n",
    "    \n",
    "smaller_root_range(f, -1, 2, 0.1)\n",
    "    "
   ]
  },
  {
   "cell_type": "markdown",
   "id": "bd556c41",
   "metadata": {},
   "source": [
    "4. Secant Method"
   ]
  },
  {
   "cell_type": "code",
   "execution_count": 29,
   "id": "1543d66a",
   "metadata": {},
   "outputs": [
    {
     "name": "stdout",
     "output_type": "stream",
     "text": [
      "Root of equation = 1.75485\n",
      "Number of iterations =  5\n"
     ]
    }
   ],
   "source": [
    "# Secant Method\n",
    "\n",
    "def secant(x1, x2, E):\n",
    "    n = 0; xm = 0; x0 = 0; c = 0;\n",
    "    if (f(x1) * f(x2) < 0):\n",
    "        while True: \n",
    "            # Intermediate value\n",
    "            x0 = ((x1 * f(x2) - x2 * f(x1)) / (f(x2) - f(x1)));\n",
    " \n",
    "            c = f(x1) * f(x0);\n",
    "            x1 = x2;\n",
    "            x2 = x0;\n",
    "            n += 1;\n",
    " \n",
    "            if (c == 0):\n",
    "                break;\n",
    "            xm = ((x1 * f(x2) - x2 * f(x1)) / (f(x2) - f(x1)));\n",
    "             \n",
    "            if(abs(xm - x0) < E):\n",
    "                break;\n",
    "         \n",
    "        print(\"Root of equation =\", round(x0, 6));\n",
    "        print(\"Number of iterations = \", n);\n",
    "         \n",
    "    else:\n",
    "        print(\"No root at the given interval\");\n",
    "        \n",
    "secant(-1, 2, 0.0001);"
   ]
  },
  {
   "cell_type": "markdown",
   "id": "0dc524a4",
   "metadata": {},
   "source": [
    "Hasil lewat secant method lebih akurat dibanding dengan scanning method, dengan nilai akar $x \\simeq 1.754877666...$ (Geogebra)"
   ]
  },
  {
   "cell_type": "code",
   "execution_count": null,
   "id": "a8373fb9",
   "metadata": {},
   "outputs": [],
   "source": []
  }
 ],
 "metadata": {
  "kernelspec": {
   "display_name": "Python 3 (ipykernel)",
   "language": "python",
   "name": "python3"
  },
  "language_info": {
   "codemirror_mode": {
    "name": "ipython",
    "version": 3
   },
   "file_extension": ".py",
   "mimetype": "text/x-python",
   "name": "python",
   "nbconvert_exporter": "python",
   "pygments_lexer": "ipython3",
   "version": "3.9.7"
  }
 },
 "nbformat": 4,
 "nbformat_minor": 5
}

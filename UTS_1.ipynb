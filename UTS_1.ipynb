{
 "cells": [
  {
   "cell_type": "markdown",
   "id": "9a287c07",
   "metadata": {},
   "source": [
    "# Simple Statistics\n",
    "### Muhammad Farhan | 10219074\n",
    "\n",
    "Diberikan suatu data $X = \\{ 4,7,5,1,3,6,4,8,5,7,2,5,6,3,9,6,8,5,7,6 \\}$"
   ]
  },
  {
   "cell_type": "markdown",
   "id": "6fb3fb26",
   "metadata": {},
   "source": [
    "1. Write codes to obtain $x$ from $X$ and number $N$ of $x$."
   ]
  },
  {
   "cell_type": "code",
   "execution_count": 11,
   "id": "57dc5401",
   "metadata": {},
   "outputs": [],
   "source": [
    "import numpy as np\n",
    "import matplotlib as plt\n",
    "import pandas as pd\n",
    "import math"
   ]
  },
  {
   "cell_type": "code",
   "execution_count": 2,
   "id": "4756c508",
   "metadata": {},
   "outputs": [
    {
     "name": "stdout",
     "output_type": "stream",
     "text": [
      "05\n",
      "Choose i: 5\n",
      "The value of x is 4\n",
      "The number of data N is 20\n"
     ]
    }
   ],
   "source": [
    "X = [4,7,5,1,3,6,4,8,5,7,2,5,6,3,9,6,8,5,7,6]\n",
    "i = 0\n",
    "\n",
    "# Obtain x\n",
    "print(\"Choose i:\", input(i))\n",
    "print(\"The value of x is\", X[i])\n",
    "\n",
    "# Obtain N\n",
    "N = len(X)\n",
    "print(\"The number of data N is\", N)"
   ]
  },
  {
   "cell_type": "markdown",
   "id": "a33d1bd3",
   "metadata": {},
   "source": [
    "2. Write codes to obtain mean $x_{mean}$, median $x_{med}$, and mode $x_{mod}$ of $x$."
   ]
  },
  {
   "cell_type": "code",
   "execution_count": 10,
   "id": "0d4e3331",
   "metadata": {},
   "outputs": [
    {
     "name": "stdout",
     "output_type": "stream",
     "text": [
      "The mean of X is 5.35\n",
      "The median of X is 5.5\n",
      "The mode of X is 5\n"
     ]
    }
   ],
   "source": [
    "sum = 0\n",
    "\n",
    "for i in range(N):\n",
    "    sum += X[i]\n",
    "\n",
    "x_mean = sum/N\n",
    "print(\"The mean of X is\", x_mean)\n",
    "\n",
    "# Median\n",
    "X.sort()\n",
    "\n",
    "if N % 2 == 0:\n",
    "    x1 = X[N//2]\n",
    "    x2 = X[N//2 - 1]\n",
    "    x_med = (x1 + x2)/2\n",
    "else:\n",
    "    x_med = X[N//2]\n",
    "\n",
    "print(\"The median of X is\", x_med)\n",
    "\n",
    "# Mode\n",
    "from collections import Counter\n",
    "data = Counter(X)\n",
    "print(\"The mode of X is\", data.most_common(1)[0][0])"
   ]
  },
  {
   "cell_type": "markdown",
   "id": "71478daf",
   "metadata": {},
   "source": [
    "3. Write codes to obtain maximum $x_{max}$, minimum $x_{min}$, and range $x_{range}$ of $x$."
   ]
  },
  {
   "cell_type": "code",
   "execution_count": 4,
   "id": "fdba41e2",
   "metadata": {},
   "outputs": [
    {
     "name": "stdout",
     "output_type": "stream",
     "text": [
      "The maximum of X is 9\n",
      "The minimum of X is 1\n",
      "THe range of X is 8\n"
     ]
    }
   ],
   "source": [
    "# Maximum\n",
    "x_max = max(X)\n",
    "print(\"The maximum of X is\", x_max)\n",
    "\n",
    "# Minimum\n",
    "x_min = min(X)\n",
    "print(\"The minimum of X is\", x_min)\n",
    "\n",
    "# Range\n",
    "x_range = x_max - x_min\n",
    "print(\"The range of X is\", x_range)"
   ]
  },
  {
   "cell_type": "markdown",
   "id": "adc3fe0d",
   "metadata": {},
   "source": [
    "4. Write codes to obtain variance $x_{var}$ and standard deviation $x_{sdev}$ of $x$."
   ]
  },
  {
   "cell_type": "code",
   "execution_count": 12,
   "id": "f839f1b7",
   "metadata": {},
   "outputs": [
    {
     "name": "stdout",
     "output_type": "stream",
     "text": [
      "The variance of X is 4.344736842105263\n",
      "The standard deviation of X is 2.084403234046921\n"
     ]
    }
   ],
   "source": [
    "# Variance\n",
    "var = 0\n",
    "\n",
    "for i in range(N):\n",
    "    var1 = ((X[i] - x_mean)**2)/(N - 1)\n",
    "    var += var1\n",
    "\n",
    "print(\"The variance of X is\", var)\n",
    "\n",
    "# Standard Deviation\n",
    "std_dev = math.sqrt(var)\n",
    "print(\"The standard deviation of X is\", std_dev)"
   ]
  }
 ],
 "metadata": {
  "kernelspec": {
   "display_name": "Python 3 (ipykernel)",
   "language": "python",
   "name": "python3"
  },
  "language_info": {
   "codemirror_mode": {
    "name": "ipython",
    "version": 3
   },
   "file_extension": ".py",
   "mimetype": "text/x-python",
   "name": "python",
   "nbconvert_exporter": "python",
   "pygments_lexer": "ipython3",
   "version": "3.9.7"
  }
 },
 "nbformat": 4,
 "nbformat_minor": 5
}
